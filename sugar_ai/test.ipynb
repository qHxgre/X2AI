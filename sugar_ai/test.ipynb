{
 "cells": [
  {
   "cell_type": "code",
   "execution_count": 1,
   "id": "e3cceb73",
   "metadata": {},
   "outputs": [],
   "source": [
    "import sys\n",
    "path = '/Users/xiehao/Desktop/workspace/X2AI/sugar_ai/'\n",
    "from Base import LoggerController"
   ]
  },
  {
   "cell_type": "code",
   "execution_count": 4,
   "id": "2a1786bb",
   "metadata": {},
   "outputs": [],
   "source": [
    "import logging\n",
    "from logging.handlers import TimedRotatingFileHandler\n",
    "import time\n",
    "\n",
    "# 创建 logger\n",
    "logger = logging.getLogger('fast_rotating_logger')\n",
    "logger.setLevel(logging.DEBUG)\n",
    "\n",
    "# 创建 TimedRotatingFileHandler，每3秒轮换一次\n",
    "handler = TimedRotatingFileHandler(\n",
    "    'fast_rotating.log',  # 日志文件名\n",
    "    when='S',            # 按秒轮换\n",
    "    interval=3,          # 每3秒轮换一次\n",
    "    backupCount=5,       # 保留5个备份文件\n",
    "    encoding='utf-8'\n",
    ")\n",
    "\n",
    "# 设置日志格式\n",
    "formatter = logging.Formatter('%(asctime)s - %(levelname)s - %(message)s')\n",
    "handler.setFormatter(formatter)\n",
    "\n",
    "# 添加处理器到logger\n",
    "logger.addHandler(handler)\n",
    "\n",
    "# 测试日志输出\n",
    "for i in range(20):\n",
    "    logger.debug(f\"这是第 {i+1} 条日志消息\")\n",
    "    time.sleep(1)  # 每秒写一条日志"
   ]
  }
 ],
 "metadata": {
  "kernelspec": {
   "display_name": "Python 3",
   "language": "python",
   "name": "python3"
  },
  "language_info": {
   "codemirror_mode": {
    "name": "ipython",
    "version": 3
   },
   "file_extension": ".py",
   "mimetype": "text/x-python",
   "name": "python",
   "nbconvert_exporter": "python",
   "pygments_lexer": "ipython3",
   "version": "3.11.5"
  }
 },
 "nbformat": 4,
 "nbformat_minor": 5
}
