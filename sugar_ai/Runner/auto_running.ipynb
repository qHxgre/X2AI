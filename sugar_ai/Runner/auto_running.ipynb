{
 "cells": [
  {
   "cell_type": "code",
   "execution_count": null,
   "id": "2f6145cf",
   "metadata": {},
   "outputs": [],
   "source": [
    "import sys\n",
    "path = '/Users/xiehao/Desktop/workspace/X2AI/sugar_ai/'\n",
    "if path not in sys.path:\n",
    "    sys.path.append(path)\n",
    "\n",
    "import time\n",
    "import schedule\n",
    "from datetime import datetime, timedelta\n",
    "from DataBuilder.hisugar.crawler import HigSugarCrawler\n",
    "from DataBuilder.future_bar1d.builder import FutureBar1dBuilder\n",
    "from base import DBFile, DBSQL\n",
    "from AIBots.SentimentalBot.robot import SentimentalBot    \n",
    "# 设置参数\n",
    "start_date = (datetime.now() - timedelta(days=7)).strftime(\"%Y-%m-%d\")\n",
    "end_date = datetime.now().strftime(\"%Y-%m-%d\")\n",
    "print(f\"{datetime.now()} 开始运行: {start_date} 至 {end_date}\")\n",
    "\n",
    "t0 = datetime.now()\n",
    "# 爬取数据\n",
    "HigSugarCrawler(\n",
    "    start_date=start_date,\n",
    "    end_date=end_date,\n",
    "    db=DBFile(),\n",
    ").crawl()\n",
    "t1 = datetime.now()\n",
    "print(\"爬去舆情数据, 耗时: \", t1-t0)\n",
    "\n",
    "# 获取行情数据\n",
    "FutureBar1dBuilder(\n",
    "    start_date=start_date,\n",
    "    end_date=end_date,\n",
    "    db=DBFile()\n",
    ").build()\n",
    "t2 = datetime.now()\n",
    "print(\"获取行情数据, 耗时: \", t2-t1)\n",
    "\n",
    "# AI 分析\n",
    "bot = SentimentalBot(db=DBFile(), start_date=start_date, end_date=end_date)\n",
    "bot.analyzing()\n",
    "t3 = datetime.now()\n",
    "print(\"AI分析, 耗时: \", t3-t2)\n",
    "\n",
    "print(\"===>>>> 自动运行完成，等待12个小时！\")"
   ]
  }
 ],
 "metadata": {
  "kernelspec": {
   "display_name": "Python 3",
   "language": "python",
   "name": "python3"
  },
  "language_info": {
   "codemirror_mode": {
    "name": "ipython",
    "version": 3
   },
   "file_extension": ".py",
   "mimetype": "text/x-python",
   "name": "python",
   "nbconvert_exporter": "python",
   "pygments_lexer": "ipython3",
   "version": "3.11.5"
  }
 },
 "nbformat": 4,
 "nbformat_minor": 5
}
