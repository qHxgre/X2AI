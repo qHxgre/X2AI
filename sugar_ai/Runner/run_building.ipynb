{
 "cells": [
  {
   "cell_type": "code",
   "execution_count": 1,
   "metadata": {},
   "outputs": [
    {
     "name": "stdout",
     "output_type": "stream",
     "text": [
      "初始化 2025-04-15, 数据获取周期: 2024-04-20 至 2025-04-15, 数据存储周期: 2025-03-16 至 2025-04-15\n",
      "获取原始数据: 2024-04-20, 2025-04-15, 耗时: 0:00:00.206229\n",
      "存储数据, 2025-04-15, 耗时: 0:00:00.019654\n"
     ]
    }
   ],
   "source": [
    "import sys\n",
    "path = '/home/aiuser/work/sugar_ai'\n",
    "if path not in sys.path:\n",
    "    sys.path.append(path)\n",
    "\n",
    "from DataBuilder.technical.builder import SugarTechnicalBuilder\n",
    "\n",
    "SugarTechnicalBuilder().run()"
   ]
  },
  {
   "cell_type": "code",
   "execution_count": 3,
   "metadata": {},
   "outputs": [
    {
     "data": {
      "text/html": [
       "<div>\n",
       "<style scoped>\n",
       "    .dataframe tbody tr th:only-of-type {\n",
       "        vertical-align: middle;\n",
       "    }\n",
       "\n",
       "    .dataframe tbody tr th {\n",
       "        vertical-align: top;\n",
       "    }\n",
       "\n",
       "    .dataframe thead th {\n",
       "        text-align: right;\n",
       "    }\n",
       "</style>\n",
       "<table border=\"1\" class=\"dataframe\">\n",
       "  <thead>\n",
       "    <tr style=\"text-align: right;\">\n",
       "      <th></th>\n",
       "      <th>date</th>\n",
       "      <th>instrument</th>\n",
       "      <th>net_profit_lf_yoy</th>\n",
       "    </tr>\n",
       "  </thead>\n",
       "  <tbody>\n",
       "    <tr>\n",
       "      <th>0</th>\n",
       "      <td>2025-02-05</td>\n",
       "      <td>002859.SZ</td>\n",
       "      <td>1.027293</td>\n",
       "    </tr>\n",
       "    <tr>\n",
       "      <th>1</th>\n",
       "      <td>2025-02-05</td>\n",
       "      <td>002873.SZ</td>\n",
       "      <td>0.695458</td>\n",
       "    </tr>\n",
       "    <tr>\n",
       "      <th>2</th>\n",
       "      <td>2025-02-05</td>\n",
       "      <td>002875.SZ</td>\n",
       "      <td>NaN</td>\n",
       "    </tr>\n",
       "    <tr>\n",
       "      <th>3</th>\n",
       "      <td>2025-02-05</td>\n",
       "      <td>002929.SZ</td>\n",
       "      <td>0.682328</td>\n",
       "    </tr>\n",
       "    <tr>\n",
       "      <th>4</th>\n",
       "      <td>2025-02-05</td>\n",
       "      <td>002932.SZ</td>\n",
       "      <td>0.341414</td>\n",
       "    </tr>\n",
       "    <tr>\n",
       "      <th>...</th>\n",
       "      <td>...</td>\n",
       "      <td>...</td>\n",
       "      <td>...</td>\n",
       "    </tr>\n",
       "    <tr>\n",
       "      <th>366968</th>\n",
       "      <td>2025-04-14</td>\n",
       "      <td>603948.SH</td>\n",
       "      <td>0.692820</td>\n",
       "    </tr>\n",
       "    <tr>\n",
       "      <th>366969</th>\n",
       "      <td>2025-04-15</td>\n",
       "      <td>301397.SZ</td>\n",
       "      <td>0.979996</td>\n",
       "    </tr>\n",
       "    <tr>\n",
       "      <th>366970</th>\n",
       "      <td>2025-04-15</td>\n",
       "      <td>603618.SH</td>\n",
       "      <td>1.006842</td>\n",
       "    </tr>\n",
       "    <tr>\n",
       "      <th>366971</th>\n",
       "      <td>2025-04-11</td>\n",
       "      <td>688146.SH</td>\n",
       "      <td>0.939983</td>\n",
       "    </tr>\n",
       "    <tr>\n",
       "      <th>366972</th>\n",
       "      <td>2025-04-11</td>\n",
       "      <td>300590.SZ</td>\n",
       "      <td>1.363916</td>\n",
       "    </tr>\n",
       "  </tbody>\n",
       "</table>\n",
       "<p>366973 rows × 3 columns</p>\n",
       "</div>"
      ],
      "text/plain": [
       "             date instrument  net_profit_lf_yoy\n",
       "0      2025-02-05  002859.SZ           1.027293\n",
       "1      2025-02-05  002873.SZ           0.695458\n",
       "2      2025-02-05  002875.SZ                NaN\n",
       "3      2025-02-05  002929.SZ           0.682328\n",
       "4      2025-02-05  002932.SZ           0.341414\n",
       "...           ...        ...                ...\n",
       "366968 2025-04-14  603948.SH           0.692820\n",
       "366969 2025-04-15  301397.SZ           0.979996\n",
       "366970 2025-04-15  603618.SH           1.006842\n",
       "366971 2025-04-11  688146.SH           0.939983\n",
       "366972 2025-04-11  300590.SZ           1.363916\n",
       "\n",
       "[366973 rows x 3 columns]"
      ]
     },
     "execution_count": 3,
     "metadata": {},
     "output_type": "execute_result"
    }
   ],
   "source": [
    "import dai\n",
    "\n",
    "dai.query(\"select date, instrument, net_profit_lf_yoy from cn_stock_prefactors where date>'2025-01-01'\").df()"
   ]
  }
 ],
 "metadata": {
  "kernelspec": {
   "display_name": "Python 3",
   "language": "python",
   "name": "python3"
  },
  "language_info": {
   "codemirror_mode": {
    "name": "ipython",
    "version": 3
   },
   "file_extension": ".py",
   "mimetype": "text/x-python",
   "name": "python",
   "nbconvert_exporter": "python",
   "pygments_lexer": "ipython3",
   "version": "3.11.8"
  }
 },
 "nbformat": 4,
 "nbformat_minor": 2
}
