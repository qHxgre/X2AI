{
 "cells": [
  {
   "cell_type": "code",
   "execution_count": 1,
   "metadata": {},
   "outputs": [
    {
     "name": "stdout",
     "output_type": "stream",
     "text": [
      "初始化: 2025-05-05, 爬取周期: 2025-05-02 至 2025-05-05, 每页大小: 10\n"
     ]
    },
    {
     "ename": "NameError",
     "evalue": "name 'dai' is not defined",
     "output_type": "error",
     "traceback": [
      "\u001b[0;31m---------------------------------------------------------------------------\u001b[0m",
      "\u001b[0;31mNameError\u001b[0m                                 Traceback (most recent call last)",
      "Cell \u001b[0;32mIn[1], line 8\u001b[0m\n\u001b[1;32m      4\u001b[0m     sys\u001b[38;5;241m.\u001b[39mpath\u001b[38;5;241m.\u001b[39mappend(path)\n\u001b[1;32m      6\u001b[0m \u001b[38;5;28;01mfrom\u001b[39;00m \u001b[38;5;21;01mDataBuilder\u001b[39;00m\u001b[38;5;21;01m.\u001b[39;00m\u001b[38;5;21;01mhisugar\u001b[39;00m\u001b[38;5;21;01m.\u001b[39;00m\u001b[38;5;21;01mcrawler\u001b[39;00m \u001b[38;5;28;01mimport\u001b[39;00m HigSugarCrawler\n\u001b[0;32m----> 8\u001b[0m df \u001b[38;5;241m=\u001b[39m \u001b[43mHigSugarCrawler\u001b[49m\u001b[43m(\u001b[49m\u001b[43m)\u001b[49m\u001b[38;5;241;43m.\u001b[39;49m\u001b[43mcrawl\u001b[49m\u001b[43m(\u001b[49m\u001b[43m)\u001b[49m\n",
      "File \u001b[0;32m~/Desktop/workspace/X2AI/sugar_ai/DataBuilder/hisugar/crawler.py:271\u001b[0m, in \u001b[0;36mHigSugarCrawler.crawl\u001b[0;34m(self)\u001b[0m\n\u001b[1;32m    270\u001b[0m \u001b[38;5;28;01mdef\u001b[39;00m \u001b[38;5;21mcrawl\u001b[39m(\u001b[38;5;28mself\u001b[39m):\n\u001b[0;32m--> 271\u001b[0m     df \u001b[38;5;241m=\u001b[39m \u001b[38;5;28;43mself\u001b[39;49m\u001b[38;5;241;43m.\u001b[39;49m\u001b[43mcrawl_category\u001b[49m\u001b[43m(\u001b[49m\u001b[38;5;28;43mself\u001b[39;49m\u001b[38;5;241;43m.\u001b[39;49m\u001b[43marticle_categories\u001b[49m\u001b[43m[\u001b[49m\u001b[38;5;124;43m\"\u001b[39;49m\u001b[38;5;124;43m国内新闻\u001b[39;49m\u001b[38;5;124;43m\"\u001b[39;49m\u001b[43m]\u001b[49m\u001b[43m)\u001b[49m\n\u001b[1;32m    272\u001b[0m     \u001b[38;5;28mself\u001b[39m\u001b[38;5;241m.\u001b[39mcrawl_category(\u001b[38;5;28mself\u001b[39m\u001b[38;5;241m.\u001b[39marticle_categories[\u001b[38;5;124m\"\u001b[39m\u001b[38;5;124m国际新闻\u001b[39m\u001b[38;5;124m\"\u001b[39m])\n\u001b[1;32m    273\u001b[0m     \u001b[38;5;28mself\u001b[39m\u001b[38;5;241m.\u001b[39mcrawl_category(\u001b[38;5;28mself\u001b[39m\u001b[38;5;241m.\u001b[39marticle_categories[\u001b[38;5;124m\"\u001b[39m\u001b[38;5;124m行业研究\u001b[39m\u001b[38;5;124m\"\u001b[39m])\n",
      "File \u001b[0;32m~/Desktop/workspace/X2AI/sugar_ai/DataBuilder/hisugar/crawler.py:136\u001b[0m, in \u001b[0;36mHigSugarCrawler.crawl_category\u001b[0;34m(self, category)\u001b[0m\n\u001b[1;32m    133\u001b[0m category_name \u001b[38;5;241m=\u001b[39m category[\u001b[38;5;124m'\u001b[39m\u001b[38;5;124mcaName\u001b[39m\u001b[38;5;124m'\u001b[39m]\n\u001b[1;32m    134\u001b[0m \u001b[38;5;28;01mfor\u001b[39;00m sub_info, sub_name \u001b[38;5;129;01min\u001b[39;00m category[\u001b[38;5;124m'\u001b[39m\u001b[38;5;124mpageCurInfo\u001b[39m\u001b[38;5;124m'\u001b[39m]\u001b[38;5;241m.\u001b[39mitems():\n\u001b[1;32m    135\u001b[0m     \u001b[38;5;66;03m# 获取原始数据中的已存在文章ID\u001b[39;00m\n\u001b[0;32m--> 136\u001b[0m     raw_data \u001b[38;5;241m=\u001b[39m \u001b[43mdai\u001b[49m\u001b[38;5;241m.\u001b[39mquery(\u001b[38;5;124mf\u001b[39m\u001b[38;5;124m\"\"\"\u001b[39m\n\u001b[1;32m    137\u001b[0m \u001b[38;5;124m    SELECT * FROM \u001b[39m\u001b[38;5;132;01m{\u001b[39;00m\u001b[38;5;28mself\u001b[39m\u001b[38;5;241m.\u001b[39mdatasource_id\u001b[38;5;132;01m}\u001b[39;00m\n\u001b[1;32m    138\u001b[0m \u001b[38;5;124m    WHERE category = \u001b[39m\u001b[38;5;124m'\u001b[39m\u001b[38;5;132;01m{\u001b[39;00mcategory_name\u001b[38;5;132;01m}\u001b[39;00m\u001b[38;5;124m'\u001b[39m\n\u001b[1;32m    139\u001b[0m \u001b[38;5;124m    AND sub_category = \u001b[39m\u001b[38;5;124m'\u001b[39m\u001b[38;5;132;01m{\u001b[39;00msub_name\u001b[38;5;132;01m}\u001b[39;00m\u001b[38;5;124m'\u001b[39m\n\u001b[1;32m    140\u001b[0m \u001b[38;5;124m    \u001b[39m\u001b[38;5;124m\"\"\"\u001b[39m, filters\u001b[38;5;241m=\u001b[39m{\u001b[38;5;124m'\u001b[39m\u001b[38;5;124mdate\u001b[39m\u001b[38;5;124m'\u001b[39m: [\u001b[38;5;28mself\u001b[39m\u001b[38;5;241m.\u001b[39mstart_date, \u001b[38;5;28mself\u001b[39m\u001b[38;5;241m.\u001b[39mend_date]})\u001b[38;5;241m.\u001b[39mdf()\n\u001b[1;32m    141\u001b[0m     \u001b[38;5;28mself\u001b[39m\u001b[38;5;241m.\u001b[39mexisting_article \u001b[38;5;241m=\u001b[39m raw_data[\u001b[38;5;124m'\u001b[39m\u001b[38;5;124marticle_id\u001b[39m\u001b[38;5;124m'\u001b[39m]\u001b[38;5;241m.\u001b[39munique()\u001b[38;5;241m.\u001b[39mtolist()\n\u001b[1;32m    143\u001b[0m     \u001b[38;5;66;03m# 爬取该大类的文章\u001b[39;00m\n",
      "\u001b[0;31mNameError\u001b[0m: name 'dai' is not defined"
     ]
    }
   ],
   "source": [
    "import sys\n",
    "path = '/Users/xiehao/Desktop/workspace/X2AI/sugar_ai/'\n",
    "if path not in sys.path:\n",
    "    sys.path.append(path)\n",
    "\n",
    "from DataBuilder.hisugar.crawler import HigSugarCrawler\n",
    "\n",
    "df = HigSugarCrawler().crawl()"
   ]
  }
 ],
 "metadata": {
  "kernelspec": {
   "display_name": "Python 3",
   "language": "python",
   "name": "python3"
  },
  "language_info": {
   "codemirror_mode": {
    "name": "ipython",
    "version": 3
   },
   "file_extension": ".py",
   "mimetype": "text/x-python",
   "name": "python",
   "nbconvert_exporter": "python",
   "pygments_lexer": "ipython3",
   "version": "3.11.5"
  }
 },
 "nbformat": 4,
 "nbformat_minor": 2
}
