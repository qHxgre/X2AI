{
 "cells": [
  {
   "cell_type": "code",
   "execution_count": null,
   "id": "4086a557",
   "metadata": {},
   "outputs": [],
   "source": [
    "import sys\n",
    "path = '/Users/xiehao/Desktop/workspace/X2AI/sugar_ai/'\n",
    "if path not in sys.path:\n",
    "    sys.path.append(path)\n",
    "\n",
    "from IPython.display import Markdown\n",
    "import pandas as pd\n",
    "from DataBuilder.hisugar.crawler import HigSugarCrawler\n",
    "from base import DBFile, DBSQL\n",
    "from AIBots.SentimentalBot.robot import SentimentalBot\n",
    "\n",
    "# 设置参数\n",
    "table = \"aisugar_hisugar\"\n",
    "start_date = \"2023-03-20\"\n",
    "end_date = \"2023-04-01\"\n",
    "\n",
    "# # 爬取数据\n",
    "# HigSugarCrawler(\n",
    "#     start_date=start_date,\n",
    "#     end_date=end_date,\n",
    "#     db=DBSQL()\n",
    "# ).crawl()\n",
    "\n",
    "# # 同步数据: 从 SQL数据库 同步到 文件数据库\n",
    "# df = DBSQL().read_data(table=table, start_date=start_date, end_date=end_date)\n",
    "# DBFile().save_data(df=df, table=table)\n",
    "\n",
    "# 同步数据：从BigQuant 同步到 文件数据库\n",
    "# df = pd.read_parquet(\"data.parquet\", engine='pyarrow')\n",
    "# DBFile().save_data(df, \"aisugar_hisugar\")\n",
    "\n",
    "# AI 研究\n",
    "bot = SentimentalBot(db=DBFile(), start_date=start_date, end_date=end_date)\n",
    "reports = bot.analyzing()"
   ]
  },
  {
   "cell_type": "code",
   "execution_count": 6,
   "id": "0d82214c",
   "metadata": {},
   "outputs": [],
   "source": [
    "user_prompt = \"\"\n",
    "report_prompt = \"\"\"\n",
    "##  文章标题: {title}\n",
    "* 发布时间: {publish_report}\n",
    "* 内容总结: {summary}\n",
    "* 个人观点: {suggestion}\n",
    "\"\"\"\n",
    "reports = [i for i in reports if i[\"summary\"] != \"\" and i[\"opinion\"] != \"\"]\n",
    "for i, report in enumerate(reports):\n",
    "    report_str = report_prompt.format(\n",
    "        title=report[\"title\"],\n",
    "        summary=report[\"summary\"],\n",
    "        suggestion=report[\"opinion\"],\n",
    "        publish_report=report[\"date\"],\n",
    "    )\n",
    "    user_prompt += report_str\n",
    "    user_prompt += \"\\n\\n\"\n",
    "\n",
    "# AI分析\n",
    "system_prompt = bot.read_md(bot.filepath_prompt+\"researcher.md\")\n",
    "report = bot.api_deepseek(user_prompt, system_prompt)\n",
    "\n",
    "# 报告保存\n",
    "bot.save_md(bot.filepath_save, \"sentimental\", report)"
   ]
  }
 ],
 "metadata": {
  "kernelspec": {
   "display_name": "Python 3",
   "language": "python",
   "name": "python3"
  },
  "language_info": {
   "codemirror_mode": {
    "name": "ipython",
    "version": 3
   },
   "file_extension": ".py",
   "mimetype": "text/x-python",
   "name": "python",
   "nbconvert_exporter": "python",
   "pygments_lexer": "ipython3",
   "version": "3.11.5"
  }
 },
 "nbformat": 4,
 "nbformat_minor": 5
}
