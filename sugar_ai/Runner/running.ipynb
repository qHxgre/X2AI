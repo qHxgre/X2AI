{
 "cells": [
  {
   "cell_type": "code",
   "execution_count": null,
   "id": "4086a557",
   "metadata": {},
   "outputs": [],
   "source": [
    "import sys\n",
    "path = '/Users/xiehao/Desktop/workspace/X2AI/sugar_ai/'\n",
    "if path not in sys.path:\n",
    "    sys.path.append(path)\n",
    "\n",
    "from IPython.display import Markdown\n",
    "import pandas as pd\n",
    "from DataBuilder.hisugar.crawler import HigSugarCrawler\n",
    "from base import DBFile, DBSQL\n",
    "from AIBots.SentimentalBot.robot import SentimentalBot\n",
    "\n",
    "# 设置参数\n",
    "table = \"aisugar_hisugar\"\n",
    "start_date = \"2023-01-01\"\n",
    "end_date = \"2023-06-01\"\n",
    "\n",
    "# # 爬取数据\n",
    "# HigSugarCrawler(\n",
    "#     start_date=start_date,\n",
    "#     end_date=end_date,\n",
    "#     db=DBSQL()\n",
    "# ).crawl()\n",
    "\n",
    "# # 同步数据: 从 SQL数据库 同步到 文件数据库\n",
    "# df = DBSQL().read_data(table=table, start_date=start_date, end_date=end_date)\n",
    "# DBFile().save_data(df=df, table=table)\n",
    "\n",
    "# 同步数据：从BigQuant 同步到 文件数据库\n",
    "# df = pd.read_parquet(\"data.parquet\", engine='pyarrow')\n",
    "# DBFile().save_data(df, \"aisugar_hisugar\")\n",
    "\n",
    "# AI 研究\n",
    "# bot = SentimentalBot(db=DBFile(), start_date=start_date, end_date=end_date)\n",
    "# bot.analyzing()"
   ]
  },
  {
   "cell_type": "code",
   "execution_count": null,
   "id": "fbf4247c",
   "metadata": {},
   "outputs": [],
   "source": [
    "# 每日循环\n",
    "from datetime import datetime, timedelta\n",
    "\n",
    "start_date = \"2023-03-01\"\n",
    "end_date = \"2023-04-01\"\n",
    "\n",
    "for today in pd.date_range(start=start_date, end=end_date):\n",
    "    sd = (today-timedelta(days=7)).strftime(\"%Y-%m-%d\")\n",
    "    ed = today.strftime(\"%Y-%m-%d\")\n",
    "    print(sd, ed)\n",
    "\n",
    "    bot = SentimentalBot(db=DBFile(), start_date=sd, end_date=ed)\n",
    "    bot.analyzing()"
   ]
  }
 ],
 "metadata": {
  "kernelspec": {
   "display_name": "Python 3",
   "language": "python",
   "name": "python3"
  },
  "language_info": {
   "codemirror_mode": {
    "name": "ipython",
    "version": 3
   },
   "file_extension": ".py",
   "mimetype": "text/x-python",
   "name": "python",
   "nbconvert_exporter": "python",
   "pygments_lexer": "ipython3",
   "version": "3.11.5"
  }
 },
 "nbformat": 4,
 "nbformat_minor": 5
}
