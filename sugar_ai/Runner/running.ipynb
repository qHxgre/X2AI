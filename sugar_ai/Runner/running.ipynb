{
 "cells": [
  {
   "cell_type": "code",
   "execution_count": 1,
   "id": "4086a557",
   "metadata": {},
   "outputs": [
    {
     "name": "stderr",
     "output_type": "stream",
     "text": [
      "/Users/xiehao/Desktop/workspace/X2AI/sugar_ai/AIBots/SentimentalBot/robot.py:258: FutureWarning: Downcasting behavior in `replace` is deprecated and will be removed in a future version. To retain the old behavior, explicitly call `result.infer_objects(copy=False)`. To opt-in to the future behavior, set `pd.set_option('future.no_silent_downcasting', True)`\n",
      "  df[\"rating\"] = df[\"rating\"].replace({\"震荡\": 0, \"上涨\": 1, \"下跌\": -1})\n"
     ]
    }
   ],
   "source": [
    "import sys\n",
    "path = '/Users/xiehao/Desktop/workspace/X2AI/sugar_ai/'\n",
    "if path not in sys.path:\n",
    "    sys.path.append(path)\n",
    "\n",
    "import pandas as pd\n",
    "from DataBuilder.hisugar.crawler import HigSugarCrawler\n",
    "from DataBuilder.future_bar1d.builder import FutureBar1dBuilder\n",
    "from Base import DBFile, DBSQL\n",
    "from AIBots.SentimentalBot.robot import SentimentalBot\n",
    "\n",
    "# 设置参数\n",
    "start_date = \"2025-06-11\"\n",
    "end_date = \"2025-06-14\"\n",
    "\n",
    "# HigSugarCrawler(\n",
    "#     start_date=start_date,\n",
    "#     end_date=end_date,\n",
    "#     db=DBFile(),\n",
    "# ).crawl()\n",
    "\n",
    "# FutureBar1dBuilder(\n",
    "#     start_date=start_date,\n",
    "#     end_date=end_date,\n",
    "#     db=DBFile(),\n",
    "# ).build()\n",
    "\n",
    "# AI 研究\n",
    "bot = SentimentalBot(db=DBFile(), start_date=start_date, end_date=end_date)\n",
    "bot.analyzing()"
   ]
  }
 ],
 "metadata": {
  "kernelspec": {
   "display_name": "Python 3",
   "language": "python",
   "name": "python3"
  },
  "language_info": {
   "codemirror_mode": {
    "name": "ipython",
    "version": 3
   },
   "file_extension": ".py",
   "mimetype": "text/x-python",
   "name": "python",
   "nbconvert_exporter": "python",
   "pygments_lexer": "ipython3",
   "version": "3.11.5"
  }
 },
 "nbformat": 4,
 "nbformat_minor": 5
}
