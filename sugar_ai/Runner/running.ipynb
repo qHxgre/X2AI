{
 "cells": [
  {
   "cell_type": "code",
   "execution_count": null,
   "id": "8e0a1936",
   "metadata": {},
   "outputs": [],
   "source": [
    "\n",
    "import sys\n",
    "path = '/Users/xiehao/Desktop/workspace/X2AI/sugar_ai/'\n",
    "if path not in sys.path:\n",
    "    sys.path.append(path)\n",
    "\n",
    "import dai\n",
    "from base import DBFile, DBSQL\n",
    "\n",
    "table = \"aisugar_hisugar\"\n",
    "start_date = \"2025-03-01\"\n",
    "end_date = \"2025-05-01\"\n",
    "\n",
    "df = dai.query(f\"SELECT * FROM {table}\", filters={\"date\": [start_date, end_date]}).df()\n",
    "DBFile(path+\"DataBase/hisugar\").save_data(df=df, table=table)\n",
    "\n",
    "# 同步数据: 从 文件数据库 同步到 SQL数据库\n",
    "df = DBFile().read_data(table=table, start_date=start_date, end_date=end_date)\n",
    "DBSQL().save_data(df=df, table=table)"
   ]
  },
  {
   "cell_type": "code",
   "execution_count": 1,
   "id": "4086a557",
   "metadata": {},
   "outputs": [
    {
     "ename": "ValueError",
     "evalue": "too many values to unpack (expected 2)",
     "output_type": "error",
     "traceback": [
      "\u001b[0;31m---------------------------------------------------------------------------\u001b[0m",
      "\u001b[0;31mValueError\u001b[0m                                Traceback (most recent call last)",
      "Cell \u001b[0;32mIn[1], line 28\u001b[0m\n\u001b[1;32m     15\u001b[0m \u001b[38;5;66;03m# # 爬取数据\u001b[39;00m\n\u001b[1;32m     16\u001b[0m \u001b[38;5;66;03m# HigSugarCrawler(\u001b[39;00m\n\u001b[1;32m     17\u001b[0m \u001b[38;5;66;03m#     start_date=start_date,\u001b[39;00m\n\u001b[0;32m   (...)\u001b[0m\n\u001b[1;32m     25\u001b[0m \n\u001b[1;32m     26\u001b[0m \u001b[38;5;66;03m# AI 研究\u001b[39;00m\n\u001b[1;32m     27\u001b[0m bot \u001b[38;5;241m=\u001b[39m SentimentalBot(db\u001b[38;5;241m=\u001b[39mDBFile())\n\u001b[0;32m---> 28\u001b[0m \u001b[43mbot\u001b[49m\u001b[38;5;241;43m.\u001b[39;49m\u001b[43manalyzing\u001b[49m\u001b[43m(\u001b[49m\u001b[43m)\u001b[49m\n",
      "File \u001b[0;32m~/Desktop/workspace/X2AI/sugar_ai/AIBots/SentimentalBot/robot.py:114\u001b[0m, in \u001b[0;36mSentimentalBot.analyzing\u001b[0;34m(self)\u001b[0m\n\u001b[1;32m    112\u001b[0m \u001b[38;5;28;01mdef\u001b[39;00m \u001b[38;5;21manalyzing\u001b[39m(\u001b[38;5;28mself\u001b[39m) \u001b[38;5;241m-\u001b[39m\u001b[38;5;241m>\u001b[39m \u001b[38;5;28;01mNone\u001b[39;00m:\n\u001b[1;32m    113\u001b[0m     data \u001b[38;5;241m=\u001b[39m \u001b[38;5;28mself\u001b[39m\u001b[38;5;241m.\u001b[39mget_articles()\n\u001b[0;32m--> 114\u001b[0m     assistant_reports \u001b[38;5;241m=\u001b[39m \u001b[38;5;28;43mself\u001b[39;49m\u001b[38;5;241;43m.\u001b[39;49m\u001b[43massistant\u001b[49m\u001b[43m(\u001b[49m\u001b[43mdata\u001b[49m\u001b[43m)\u001b[49m\n\u001b[1;32m    115\u001b[0m     research_report \u001b[38;5;241m=\u001b[39m \u001b[38;5;28mself\u001b[39m\u001b[38;5;241m.\u001b[39mresearcher(assistant_reports)\n\u001b[1;32m    116\u001b[0m     \u001b[38;5;28mself\u001b[39m\u001b[38;5;241m.\u001b[39memail_sending(\u001b[38;5;124mf\u001b[39m\u001b[38;5;124m\"\u001b[39m\u001b[38;5;124mSR 舆情分析报告_\u001b[39m\u001b[38;5;132;01m{\u001b[39;00m\u001b[38;5;28mself\u001b[39m\u001b[38;5;241m.\u001b[39mend_date\u001b[38;5;132;01m}\u001b[39;00m\u001b[38;5;124m\"\u001b[39m, research_report)\n",
      "File \u001b[0;32m~/Desktop/workspace/X2AI/sugar_ai/AIBots/SentimentalBot/robot.py:76\u001b[0m, in \u001b[0;36mSentimentalBot.assistant\u001b[0;34m(self, data)\u001b[0m\n\u001b[1;32m     74\u001b[0m article_nums \u001b[38;5;241m=\u001b[39m \u001b[38;5;28mlen\u001b[39m(data)\n\u001b[1;32m     75\u001b[0m \u001b[38;5;28;01mfor\u001b[39;00m i, article \u001b[38;5;129;01min\u001b[39;00m \u001b[38;5;28menumerate\u001b[39m(data):\n\u001b[0;32m---> 76\u001b[0m     buffer, temp \u001b[38;5;241m=\u001b[39m \u001b[38;5;28mself\u001b[39m\u001b[38;5;241m.\u001b[39manalyzing_article(article)\n\u001b[1;32m     77\u001b[0m     result\u001b[38;5;241m.\u001b[39mappend(temp)\n\u001b[1;32m     78\u001b[0m     \u001b[38;5;28;01mif\u001b[39;00m buffer \u001b[38;5;129;01mis\u001b[39;00m \u001b[38;5;28;01mTrue\u001b[39;00m:\n",
      "\u001b[0;31mValueError\u001b[0m: too many values to unpack (expected 2)"
     ]
    }
   ],
   "source": [
    "import sys\n",
    "path = '/Users/xiehao/Desktop/workspace/X2AI/sugar_ai/'\n",
    "if path not in sys.path:\n",
    "    sys.path.append(path)\n",
    "\n",
    "from DataBuilder.hisugar.crawler import HigSugarCrawler\n",
    "from base import DBFile, DBSQL\n",
    "from AIBots.SentimentalBot.robot import SentimentalBot\n",
    "\n",
    "# 设置参数\n",
    "table = \"aisugar_hisugar\"\n",
    "start_date = \"2025-04-27\"\n",
    "end_date = \"2025-05-05\"\n",
    "\n",
    "# # 爬取数据\n",
    "# HigSugarCrawler(\n",
    "#     start_date=start_date,\n",
    "#     end_date=end_date,\n",
    "#     db=DBSQL()\n",
    "# ).crawl()\n",
    "\n",
    "# # 同步数据: 从 SQL数据库 同步到 文件数据库\n",
    "# df = DBSQL().read_data(table=table, start_date=start_date, end_date=end_date)\n",
    "# DBFile().save_data(df=df, table=table)\n",
    "\n",
    "# AI 研究\n",
    "SentimentalBot(db=DBFile()).analyzing()"
   ]
  }
 ],
 "metadata": {
  "kernelspec": {
   "display_name": "Python 3",
   "language": "python",
   "name": "python3"
  },
  "language_info": {
   "codemirror_mode": {
    "name": "ipython",
    "version": 3
   },
   "file_extension": ".py",
   "mimetype": "text/x-python",
   "name": "python",
   "nbconvert_exporter": "python",
   "pygments_lexer": "ipython3",
   "version": "3.11.5"
  }
 },
 "nbformat": 4,
 "nbformat_minor": 5
}
