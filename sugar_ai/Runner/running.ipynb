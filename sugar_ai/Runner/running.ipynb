{
 "cells": [
  {
   "cell_type": "code",
   "execution_count": null,
   "id": "8e0a1936",
   "metadata": {},
   "outputs": [],
   "source": [
    "\n",
    "import sys\n",
    "path = '/Users/xiehao/Desktop/workspace/X2AI/sugar_ai/'\n",
    "if path not in sys.path:\n",
    "    sys.path.append(path)\n",
    "\n",
    "import dai\n",
    "from base import DBFile, DBSQL\n",
    "\n",
    "table = \"aisugar_hisugar\"\n",
    "start_date = \"2025-03-01\"\n",
    "end_date = \"2025-05-01\"\n",
    "\n",
    "df = dai.query(f\"SELECT * FROM {table}\", filters={\"date\": [start_date, end_date]}).df()\n",
    "DBFile(path+\"DataBase/hisugar\").save_data(df=df, table=table)\n",
    "\n",
    "# 同步数据: 从 文件数据库 同步到 SQL数据库\n",
    "df = DBFile().read_data(table=table, start_date=start_date, end_date=end_date)\n",
    "DBSQL().save_data(df=df, table=table)"
   ]
  },
  {
   "cell_type": "code",
   "execution_count": null,
   "id": "4086a557",
   "metadata": {},
   "outputs": [],
   "source": [
    "import sys\n",
    "path = '/Users/xiehao/Desktop/workspace/X2AI/sugar_ai/'\n",
    "if path not in sys.path:\n",
    "    sys.path.append(path)\n",
    "\n",
    "from DataBuilder.hisugar.crawler import HigSugarCrawler\n",
    "from base import DBFile, DBSQL\n",
    "\n",
    "# 设置参数\n",
    "table = \"aisugar_hisugar\"\n",
    "start_date = \"2025-04-27\"\n",
    "end_date = \"2025-05-01\"\n",
    "\n",
    "# 爬取数据\n",
    "HigSugarCrawler(\n",
    "    start_date=start_date,\n",
    "    end_date=end_date,\n",
    "    db=DBSQL()\n",
    ").crawl()\n",
    "\n",
    "# 同步数据: 从 SQL数据库 同步到 文件数据库\n",
    "df = DBSQL().read_data(table=table, start_date=start_date, end_date=end_date)\n",
    "DBFile().save_data(df=df, table=table)"
   ]
  }
 ],
 "metadata": {
  "kernelspec": {
   "display_name": "Python 3",
   "language": "python",
   "name": "python3"
  },
  "language_info": {
   "codemirror_mode": {
    "name": "ipython",
    "version": 3
   },
   "file_extension": ".py",
   "mimetype": "text/x-python",
   "name": "python",
   "nbconvert_exporter": "python",
   "pygments_lexer": "ipython3",
   "version": "3.11.5"
  }
 },
 "nbformat": 4,
 "nbformat_minor": 5
}
