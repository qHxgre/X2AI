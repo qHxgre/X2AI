{
 "cells": [
  {
   "cell_type": "code",
   "execution_count": null,
   "metadata": {},
   "outputs": [],
   "source": [
    "import sys\n",
    "path = '/home/aiuser/work/sugar_ai/'\n",
    "path = '/Users/xiehao/Desktop/workspace/X2AI/sugar_ai/'\n",
    "if path not in sys.path:\n",
    "    sys.path.append(path)"
   ]
  },
  {
   "cell_type": "markdown",
   "metadata": {},
   "source": [
    "## 数据从 dai 转换 parquet 文件中"
   ]
  },
  {
   "cell_type": "code",
   "execution_count": null,
   "metadata": {},
   "outputs": [],
   "source": [
    "import dai\n",
    "from base import DBFile\n",
    "\n",
    "table = \"aisugar_hisugar\"\n",
    "start_date = \"2025-03-01\"\n",
    "end_date = \"2025-05-01\"\n",
    "\n",
    "df = dai.query(f\"SELECT * FROM {table}\", filters={\"date\": [start_date, end_date]}).df()\n",
    "DBFile(path+\"DataBase/hisugar\").save_data(df=df, table=table)"
   ]
  },
  {
   "cell_type": "markdown",
   "metadata": {},
   "source": [
    "## 数据从 parquet 转换 SQL 中"
   ]
  },
  {
   "cell_type": "code",
   "execution_count": null,
   "metadata": {},
   "outputs": [
    {
     "name": "stdout",
     "output_type": "stream",
     "text": [
      "数据成功追加到表 aisugar_hisugar\n"
     ]
    }
   ],
   "source": [
    "from base import DBFile, DBSQL\n",
    "\n",
    "table = \"aisugar_hisugar\"\n",
    "start_date = \"2025-03-01\"\n",
    "end_date = \"2025-05-01\"\n",
    "\n",
    "df = DBFile().read_data(table=table, start_date=start_date, end_date=end_date)\n",
    "DBSQL().save_data(df=df, table=table)"
   ]
  }
 ],
 "metadata": {
  "kernelspec": {
   "display_name": "Python 3",
   "language": "python",
   "name": "python3"
  },
  "language_info": {
   "codemirror_mode": {
    "name": "ipython",
    "version": 3
   },
   "file_extension": ".py",
   "mimetype": "text/x-python",
   "name": "python",
   "nbconvert_exporter": "python",
   "pygments_lexer": "ipython3",
   "version": "3.11.5"
  }
 },
 "nbformat": 4,
 "nbformat_minor": 2
}
