{
 "cells": [
  {
   "cell_type": "code",
   "execution_count": 8,
   "id": "30e65827",
   "metadata": {},
   "outputs": [
    {
     "name": "stderr",
     "output_type": "stream",
     "text": [
      "/Users/xiehao/Desktop/workspace/X2AI/sugar_ai/AIBots/SentimentalBot/robot.py:295: FutureWarning: Downcasting behavior in `replace` is deprecated and will be removed in a future version. To retain the old behavior, explicitly call `result.infer_objects(copy=False)`. To opt-in to the future behavior, set `pd.set_option('future.no_silent_downcasting', True)`\n",
      "  df[\"rating\"] = df[\"rating\"].replace({\"震荡\": 0, \"上涨\": 1, \"下跌\": -1})\n"
     ]
    }
   ],
   "source": [
    "import sys\n",
    "path = '/Users/xiehao/Desktop/workspace/X2AI/sugar_ai/'\n",
    "if path not in sys.path:\n",
    "    sys.path.append(path)\n",
    "\n",
    "\n",
    "from AIBots.SentimentalBot.robot import SentimentalBot\n",
    "from base import DBFile, DBSQL\n",
    "import json\n",
    "import numpy as np\n",
    "import pandas as pd\n",
    "import mplfinance as mpf\n",
    "import matplotlib.pyplot as plt\n",
    "from datetime import datetime, timedelta\n",
    "from typing import Optional, Union\n",
    "from joblib import Parallel, delayed\n",
    "from base import AIBase\n",
    "from base import DBFile, DBSQL\n",
    "\n",
    "from pyecharts.charts import Kline, Line, Grid\n",
    "from pyecharts import options as opts\n",
    "from pyecharts.commons.utils import JsCode\n",
    "\n",
    "start_date = \"2025-05-20\"\n",
    "end_date = \"2025-06-05\"\n",
    "\n",
    "bot = SentimentalBot(db=DBFile(), start_date=start_date, end_date=end_date)\n",
    "bot.plotting(\"2025-06-04\")"
   ]
  }
 ],
 "metadata": {
  "kernelspec": {
   "display_name": "Python 3",
   "language": "python",
   "name": "python3"
  },
  "language_info": {
   "codemirror_mode": {
    "name": "ipython",
    "version": 3
   },
   "file_extension": ".py",
   "mimetype": "text/x-python",
   "name": "python",
   "nbconvert_exporter": "python",
   "pygments_lexer": "ipython3",
   "version": "3.11.5"
  }
 },
 "nbformat": 4,
 "nbformat_minor": 5
}
