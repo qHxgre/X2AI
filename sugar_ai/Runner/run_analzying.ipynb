{
 "cells": [
  {
   "cell_type": "code",
   "execution_count": null,
   "metadata": {},
   "outputs": [],
   "source": [
    "import sys\n",
    "path = '/home/aiuser/work/sugar_ai/'\n",
    "if path not in sys.path:\n",
    "    sys.path.append(path)\n",
    "\n",
    "from AIBots.SentimentalBot.robot import SentimentalBot\n",
    "from AIBots.TechnicalBot.robot import TechnicalBot\n",
    "from AIBots.ManagerBot.robot import ManagerBot\n",
    "\n",
    "SentimentalBot().analyzing()\n",
    "TechnicalBot().analyzing()\n",
    "# ManagerBot().reporting()"
   ]
  }
 ],
 "metadata": {
  "kernelspec": {
   "display_name": "Python 3",
   "language": "python",
   "name": "python3"
  },
  "language_info": {
   "codemirror_mode": {
    "name": "ipython",
    "version": 3
   },
   "file_extension": ".py",
   "mimetype": "text/x-python",
   "name": "python",
   "nbconvert_exporter": "python",
   "pygments_lexer": "ipython3",
   "version": "3.11.8"
  }
 },
 "nbformat": 4,
 "nbformat_minor": 2
}
